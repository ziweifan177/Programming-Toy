{
 "cells": [
  {
   "cell_type": "code",
   "execution_count": 32,
   "metadata": {
    "collapsed": false
   },
   "outputs": [],
   "source": [
    "import cv2\n",
    "import numpy as np\n",
    "from PIL import Image\n",
    "from PIL import ImageFilter"
   ]
  },
  {
   "cell_type": "code",
   "execution_count": 19,
   "metadata": {},
   "outputs": [],
   "source": [
    "## FUNCTION: Get rid of Pepper Noise:\n",
    "def Remove_PepperNoise(imageObject):\n",
    "    members = [(0,0)] * 9\n",
    "    width,height=moreEdgeEnahnced.size\n",
    "    removedNoiseimg = Image.new(\"RGB\",(width,height),\"white\")\n",
    "    for i in range(1,width-1):\n",
    "        for j in range(1,height-1):\n",
    "            members[0] = imageObject.getpixel((i-1,j-1))\n",
    "            members[1] = imageObject.getpixel((i-1,j))\n",
    "            members[2] = imageObject.getpixel((i-1,j+1))\n",
    "            members[3] = imageObject.getpixel((i,j-1))\n",
    "            members[4] = imageObject.getpixel((i,j))\n",
    "            members[5] = imageObject.getpixel((i,j+1))\n",
    "            members[6] = imageObject.getpixel((i+1,j-1))\n",
    "            members[7] = imageObject.getpixel((i+1,j))\n",
    "            members[8] = imageObject.getpixel((i+1,j+1))\n",
    "            members.sort()\n",
    "            removedNoiseimg.putpixel((i,j),(members[4]))\n",
    "    return removedNoiseimg\n"
   ]
  },
  {
   "cell_type": "code",
   "execution_count": 18,
   "metadata": {},
   "outputs": [
    {
     "ename": "NameError",
     "evalue": "name 'moreEdgeEnahnced' is not defined",
     "traceback": [
      "\u001b[1;31m---------------------------------------------------------------------------\u001b[0m",
      "\u001b[1;31mNameError\u001b[0m                                 Traceback (most recent call last)",
      "\u001b[1;32m<ipython-input-18-6e4ceb470a4b>\u001b[0m in \u001b[0;36m<module>\u001b[1;34m()\u001b[0m\n\u001b[0;32m      1\u001b[0m \u001b[0mmembers\u001b[0m \u001b[1;33m=\u001b[0m \u001b[1;33m[\u001b[0m\u001b[1;33m(\u001b[0m\u001b[1;36m0\u001b[0m\u001b[1;33m,\u001b[0m\u001b[1;36m0\u001b[0m\u001b[1;33m)\u001b[0m\u001b[1;33m]\u001b[0m \u001b[1;33m*\u001b[0m \u001b[1;36m9\u001b[0m\u001b[1;33m\u001b[0m\u001b[0m\n\u001b[1;32m----> 2\u001b[1;33m \u001b[0mwidth\u001b[0m\u001b[1;33m,\u001b[0m\u001b[0mheight\u001b[0m\u001b[1;33m=\u001b[0m\u001b[0mmoreEdgeEnahnced\u001b[0m\u001b[1;33m.\u001b[0m\u001b[0msize\u001b[0m\u001b[1;33m\u001b[0m\u001b[0m\n\u001b[0m\u001b[0;32m      3\u001b[0m \u001b[0mnewimg\u001b[0m \u001b[1;33m=\u001b[0m \u001b[0mImage\u001b[0m\u001b[1;33m.\u001b[0m\u001b[0mnew\u001b[0m\u001b[1;33m(\u001b[0m\u001b[1;34m\"RGB\"\u001b[0m\u001b[1;33m,\u001b[0m\u001b[1;33m(\u001b[0m\u001b[0mwidth\u001b[0m\u001b[1;33m,\u001b[0m\u001b[0mheight\u001b[0m\u001b[1;33m)\u001b[0m\u001b[1;33m,\u001b[0m\u001b[1;34m\"white\"\u001b[0m\u001b[1;33m)\u001b[0m\u001b[1;33m\u001b[0m\u001b[0m\n\u001b[0;32m      4\u001b[0m \u001b[1;32mfor\u001b[0m \u001b[0mi\u001b[0m \u001b[1;32min\u001b[0m \u001b[0mrange\u001b[0m\u001b[1;33m(\u001b[0m\u001b[1;36m1\u001b[0m\u001b[1;33m,\u001b[0m\u001b[0mwidth\u001b[0m\u001b[1;33m-\u001b[0m\u001b[1;36m1\u001b[0m\u001b[1;33m)\u001b[0m\u001b[1;33m:\u001b[0m\u001b[1;33m\u001b[0m\u001b[0m\n\u001b[0;32m      5\u001b[0m     \u001b[1;32mfor\u001b[0m \u001b[0mj\u001b[0m \u001b[1;32min\u001b[0m \u001b[0mrange\u001b[0m\u001b[1;33m(\u001b[0m\u001b[1;36m1\u001b[0m\u001b[1;33m,\u001b[0m\u001b[0mheight\u001b[0m\u001b[1;33m-\u001b[0m\u001b[1;36m1\u001b[0m\u001b[1;33m)\u001b[0m\u001b[1;33m:\u001b[0m\u001b[1;33m\u001b[0m\u001b[0m\n",
      "\u001b[1;31mNameError\u001b[0m: name 'moreEdgeEnahnced' is not defined"
     ],
     "output_type": "error"
    }
   ],
   "source": [
    "members = [(0,0)] * 9\n",
    "width,height=moreEdgeEnahnced.size\n",
    "newimg = Image.new(\"RGB\",(width,height),\"white\")\n",
    "for i in range(1,width-1):\n",
    "    for j in range(1,height-1):\n",
    "        members[0] = imageObject.getpixel((i-1,j-1))\n",
    "        members[1] = imageObject.getpixel((i-1,j))\n",
    "        members[2] = imageObject.getpixel((i-1,j+1))\n",
    "        members[3] = imageObject.getpixel((i,j-1))\n",
    "        members[4] = imageObject.getpixel((i,j))\n",
    "        members[5] = imageObject.getpixel((i,j+1))\n",
    "        members[6] = imageObject.getpixel((i+1,j-1))\n",
    "        members[7] = imageObject.getpixel((i+1,j))\n",
    "        members[8] = imageObject.getpixel((i+1,j+1))\n",
    "        members.sort()\n",
    "        newimg.putpixel((i,j),(members[4]))\n",
    "newimg.show()\n"
   ]
  },
  {
   "cell_type": "code",
   "execution_count": 20,
   "metadata": {},
   "outputs": [],
   "source": [
    "## FUNCTION: Edge Enhance & more:\n",
    "def edgeEnhance(orgImg):\n",
    "    edgeEnhancedImg=orgImg.filter(ImageFilter.EDGE_ENHANCE) #convolution matrix: (-1, -1, -1, -1, 10, -1,-1, -1, -1)   \n",
    "    return edgeEnhancedImg\n"
   ]
  },
  {
   "cell_type": "code",
   "execution_count": 21,
   "metadata": {},
   "outputs": [],
   "source": [
    "def edgeEnhanceMore(orgImg):\n",
    "    edgeEnhanceMoredImg=orgImg.filter(ImageFilter.EDGE_ENHANCE_MORE)  #convolution matrix: (-1, -1, -1, -1, 9, -1,-1, -1, -1)   \n",
    "    return edgeEnhanceMoredImg"
   ]
  },
  {
   "cell_type": "code",
   "execution_count": 22,
   "metadata": {},
   "outputs": [
    {
     "ename": "FileNotFoundError",
     "evalue": "[Errno 2] No such file or directory: 'testNeuron1.jpg'",
     "traceback": [
      "\u001b[1;31m---------------------------------------------------------------------------\u001b[0m",
      "\u001b[1;31mFileNotFoundError\u001b[0m                         Traceback (most recent call last)",
      "\u001b[1;32m<ipython-input-22-20654da9c0a4>\u001b[0m in \u001b[0;36m<module>\u001b[1;34m()\u001b[0m\n\u001b[1;32m----> 1\u001b[1;33m \u001b[0morgImageObject\u001b[0m \u001b[1;33m=\u001b[0m \u001b[0mImage\u001b[0m\u001b[1;33m.\u001b[0m\u001b[0mopen\u001b[0m\u001b[1;33m(\u001b[0m\u001b[1;34m\"testNeuron1.jpg\"\u001b[0m\u001b[1;33m)\u001b[0m\u001b[1;33m\u001b[0m\u001b[0m\n\u001b[0m\u001b[0;32m      2\u001b[0m \u001b[0miterPepperNoiseNum\u001b[0m \u001b[1;33m=\u001b[0m \u001b[1;36m3\u001b[0m \u001b[1;31m#The num of iterating step 1-Removing pepper noise.\u001b[0m\u001b[1;33m\u001b[0m\u001b[0m\n",
      "\u001b[1;32mC:\\Anaconda3\\lib\\site-packages\\PIL\\Image.py\u001b[0m in \u001b[0;36mopen\u001b[1;34m(fp, mode)\u001b[0m\n\u001b[0;32m   2578\u001b[0m \u001b[1;33m\u001b[0m\u001b[0m\n\u001b[0;32m   2579\u001b[0m     \u001b[1;32mif\u001b[0m \u001b[0mfilename\u001b[0m\u001b[1;33m:\u001b[0m\u001b[1;33m\u001b[0m\u001b[0m\n\u001b[1;32m-> 2580\u001b[1;33m         \u001b[0mfp\u001b[0m \u001b[1;33m=\u001b[0m \u001b[0mbuiltins\u001b[0m\u001b[1;33m.\u001b[0m\u001b[0mopen\u001b[0m\u001b[1;33m(\u001b[0m\u001b[0mfilename\u001b[0m\u001b[1;33m,\u001b[0m \u001b[1;34m\"rb\"\u001b[0m\u001b[1;33m)\u001b[0m\u001b[1;33m\u001b[0m\u001b[0m\n\u001b[0m\u001b[0;32m   2581\u001b[0m         \u001b[0mexclusive_fp\u001b[0m \u001b[1;33m=\u001b[0m \u001b[1;32mTrue\u001b[0m\u001b[1;33m\u001b[0m\u001b[0m\n\u001b[0;32m   2582\u001b[0m \u001b[1;33m\u001b[0m\u001b[0m\n",
      "\u001b[1;31mFileNotFoundError\u001b[0m: [Errno 2] No such file or directory: 'testNeuron1.jpg'"
     ],
     "output_type": "error"
    }
   ],
   "source": [
    "orgImageObject = Image.open(\"testNeuron1.jpg\")\n",
    "iterPepperNoiseNum = 3 #The num of iterating step 1-Removing pepper noise.\n"
   ]
  },
  {
   "cell_type": "code",
   "execution_count": 23,
   "metadata": {},
   "outputs": [
    {
     "ename": "NameError",
     "evalue": "name 'orgImageObject' is not defined",
     "traceback": [
      "\u001b[1;31m---------------------------------------------------------------------------\u001b[0m",
      "\u001b[1;31mNameError\u001b[0m                                 Traceback (most recent call last)",
      "\u001b[1;32m<ipython-input-23-75e2bf224900>\u001b[0m in \u001b[0;36m<module>\u001b[1;34m()\u001b[0m\n\u001b[1;32m----> 1\u001b[1;33m \u001b[0morgImageObject\u001b[0m\u001b[1;33m.\u001b[0m\u001b[0mshow\u001b[0m\u001b[1;33m(\u001b[0m\u001b[1;33m)\u001b[0m\u001b[1;33m\u001b[0m\u001b[0m\n\u001b[0m",
      "\u001b[1;31mNameError\u001b[0m: name 'orgImageObject' is not defined"
     ],
     "output_type": "error"
    }
   ],
   "source": [
    "orgImageObject.show()"
   ]
  },
  {
   "cell_type": "code",
   "execution_count": 24,
   "metadata": {},
   "outputs": [
    {
     "ename": "NameError",
     "evalue": "name 'orgImageObject' is not defined",
     "traceback": [
      "\u001b[1;31m---------------------------------------------------------------------------\u001b[0m",
      "\u001b[1;31mNameError\u001b[0m                                 Traceback (most recent call last)",
      "\u001b[1;32m<ipython-input-24-bd89cdf517fc>\u001b[0m in \u001b[0;36m<module>\u001b[1;34m()\u001b[0m\n\u001b[1;32m----> 1\u001b[1;33m \u001b[0mremovedNoiseimg\u001b[0m\u001b[1;33m=\u001b[0m\u001b[0mRemove_PepperNoise\u001b[0m\u001b[1;33m(\u001b[0m\u001b[0morgImageObject\u001b[0m\u001b[1;33m)\u001b[0m\u001b[1;33m\u001b[0m\u001b[0m\n\u001b[0m",
      "\u001b[1;31mNameError\u001b[0m: name 'orgImageObject' is not defined"
     ],
     "output_type": "error"
    }
   ],
   "source": [
    "removedNoiseimg=Remove_PepperNoise(orgImageObject)"
   ]
  },
  {
   "cell_type": "code",
   "execution_count": 25,
   "metadata": {},
   "outputs": [
    {
     "ename": "NameError",
     "evalue": "name 'removedNoiseimg' is not defined",
     "traceback": [
      "\u001b[1;31m---------------------------------------------------------------------------\u001b[0m",
      "\u001b[1;31mNameError\u001b[0m                                 Traceback (most recent call last)",
      "\u001b[1;32m<ipython-input-25-ce358c44cffe>\u001b[0m in \u001b[0;36m<module>\u001b[1;34m()\u001b[0m\n\u001b[1;32m----> 1\u001b[1;33m \u001b[0mremovedNoiseimg\u001b[0m\u001b[1;33m.\u001b[0m\u001b[0mshow\u001b[0m\u001b[1;33m(\u001b[0m\u001b[1;33m)\u001b[0m\u001b[1;33m\u001b[0m\u001b[0m\n\u001b[0m",
      "\u001b[1;31mNameError\u001b[0m: name 'removedNoiseimg' is not defined"
     ],
     "output_type": "error"
    }
   ],
   "source": [
    "removedNoiseimg.show()"
   ]
  },
  {
   "cell_type": "code",
   "execution_count": 26,
   "metadata": {},
   "outputs": [
    {
     "ename": "NameError",
     "evalue": "name 'removedNoiseimg' is not defined",
     "traceback": [
      "\u001b[1;31m---------------------------------------------------------------------------\u001b[0m",
      "\u001b[1;31mNameError\u001b[0m                                 Traceback (most recent call last)",
      "\u001b[1;32m<ipython-input-26-9fb7e47c09c1>\u001b[0m in \u001b[0;36m<module>\u001b[1;34m()\u001b[0m\n\u001b[1;32m----> 1\u001b[1;33m \u001b[0medgeEnhancedImg\u001b[0m\u001b[1;33m=\u001b[0m\u001b[0medgeEnhance\u001b[0m\u001b[1;33m(\u001b[0m\u001b[0mremovedNoiseimg\u001b[0m\u001b[1;33m)\u001b[0m\u001b[1;33m\u001b[0m\u001b[0m\n\u001b[0m\u001b[0;32m      2\u001b[0m \u001b[0medgeEnhancedImg\u001b[0m\u001b[1;33m.\u001b[0m\u001b[0mshow\u001b[0m\u001b[1;33m(\u001b[0m\u001b[1;33m)\u001b[0m\u001b[1;33m\u001b[0m\u001b[0m\n",
      "\u001b[1;31mNameError\u001b[0m: name 'removedNoiseimg' is not defined"
     ],
     "output_type": "error"
    }
   ],
   "source": [
    "edgeEnhancedImg=edgeEnhance(removedNoiseimg)\n",
    "edgeEnhancedImg.show()"
   ]
  },
  {
   "cell_type": "code",
   "execution_count": 27,
   "metadata": {},
   "outputs": [
    {
     "ename": "NameError",
     "evalue": "name 'removedNoiseimg' is not defined",
     "traceback": [
      "\u001b[1;31m---------------------------------------------------------------------------\u001b[0m",
      "\u001b[1;31mNameError\u001b[0m                                 Traceback (most recent call last)",
      "\u001b[1;32m<ipython-input-27-485089874fd1>\u001b[0m in \u001b[0;36m<module>\u001b[1;34m()\u001b[0m\n\u001b[1;32m----> 1\u001b[1;33m \u001b[0medgeEnhancedMoreImg\u001b[0m\u001b[1;33m=\u001b[0m\u001b[0medgeEnhanceMore\u001b[0m\u001b[1;33m(\u001b[0m\u001b[0mremovedNoiseimg\u001b[0m\u001b[1;33m)\u001b[0m\u001b[1;31m### Step 2: Edge Enhance: ###\u001b[0m\u001b[1;33m\u001b[0m\u001b[0m\n\u001b[0m\u001b[0;32m      2\u001b[0m \u001b[0medgeEnhancedMoreImg\u001b[0m\u001b[1;33m.\u001b[0m\u001b[0mshow\u001b[0m\u001b[1;33m(\u001b[0m\u001b[1;33m)\u001b[0m\u001b[1;33m\u001b[0m\u001b[0m\n",
      "\u001b[1;31mNameError\u001b[0m: name 'removedNoiseimg' is not defined"
     ],
     "output_type": "error"
    }
   ],
   "source": [
    "edgeEnhancedMoreImg=edgeEnhanceMore(removedNoiseimg)### Step 2: Edge Enhance: ###\n",
    "edgeEnhancedMoreImg.show()"
   ]
  },
  {
   "cell_type": "code",
   "execution_count": 28,
   "metadata": {},
   "outputs": [
    {
     "ename": "NameError",
     "evalue": "name 'edgeEnhancedImg' is not defined",
     "traceback": [
      "\u001b[1;31m---------------------------------------------------------------------------\u001b[0m",
      "\u001b[1;31mNameError\u001b[0m                                 Traceback (most recent call last)",
      "\u001b[1;32m<ipython-input-28-5a5bd3bbad36>\u001b[0m in \u001b[0;36m<module>\u001b[1;34m()\u001b[0m\n\u001b[0;32m      1\u001b[0m \u001b[1;31m# ***1 time for testing:\u001b[0m\u001b[1;33m\u001b[0m\u001b[1;33m\u001b[0m\u001b[0m\n\u001b[1;32m----> 2\u001b[1;33m \u001b[0mremovedNoiseimg\u001b[0m \u001b[1;33m=\u001b[0m \u001b[0mRemove_PepperNoise\u001b[0m\u001b[1;33m(\u001b[0m\u001b[0medgeEnhancedImg\u001b[0m\u001b[1;33m)\u001b[0m\u001b[1;33m\u001b[0m\u001b[0m\n\u001b[0m\u001b[0;32m      3\u001b[0m \u001b[0medgeEnhancedImg\u001b[0m\u001b[1;33m=\u001b[0m\u001b[0mremovedNoiseimg\u001b[0m\u001b[1;33m\u001b[0m\u001b[0m\n\u001b[0;32m      4\u001b[0m \u001b[0medgeEnhancedImg\u001b[0m\u001b[1;33m.\u001b[0m\u001b[0mshow\u001b[0m\u001b[1;33m(\u001b[0m\u001b[1;33m)\u001b[0m\u001b[1;33m\u001b[0m\u001b[0m\n",
      "\u001b[1;31mNameError\u001b[0m: name 'edgeEnhancedImg' is not defined"
     ],
     "output_type": "error"
    }
   ],
   "source": [
    "# ***1 time for testing:\n",
    "removedNoiseimg = Remove_PepperNoise(edgeEnhancedImg)\n",
    "edgeEnhancedImg=removedNoiseimg\n",
    "edgeEnhancedImg.show()"
   ]
  },
  {
   "cell_type": "code",
   "execution_count": 29,
   "metadata": {},
   "outputs": [
    {
     "ename": "NameError",
     "evalue": "name 'iterPepperNoiseNum' is not defined",
     "traceback": [
      "\u001b[1;31m---------------------------------------------------------------------------\u001b[0m",
      "\u001b[1;31mNameError\u001b[0m                                 Traceback (most recent call last)",
      "\u001b[1;32m<ipython-input-29-651bed8483d0>\u001b[0m in \u001b[0;36m<module>\u001b[1;34m()\u001b[0m\n\u001b[0;32m      1\u001b[0m \u001b[1;31m## I. edgeEnhancedImg + 3*Remove Pepper Noise:\u001b[0m\u001b[1;33m\u001b[0m\u001b[1;33m\u001b[0m\u001b[0m\n\u001b[0;32m      2\u001b[0m \u001b[0mi\u001b[0m\u001b[1;33m=\u001b[0m\u001b[1;36m0\u001b[0m\u001b[1;33m\u001b[0m\u001b[0m\n\u001b[1;32m----> 3\u001b[1;33m \u001b[1;32mwhile\u001b[0m \u001b[0mi\u001b[0m\u001b[1;33m<\u001b[0m\u001b[0miterPepperNoiseNum\u001b[0m\u001b[1;33m:\u001b[0m\u001b[1;33m\u001b[0m\u001b[0m\n\u001b[0m\u001b[0;32m      4\u001b[0m     \u001b[0mremovedNoiseimg\u001b[0m\u001b[1;33m=\u001b[0m\u001b[0mRemove_PepperNoise\u001b[0m\u001b[1;33m(\u001b[0m\u001b[0medgeEnhancedImg\u001b[0m\u001b[1;33m)\u001b[0m\u001b[1;33m\u001b[0m\u001b[0m\n\u001b[0;32m      5\u001b[0m     \u001b[0medgeEnhancedImg\u001b[0m\u001b[1;33m=\u001b[0m\u001b[0mremovedNoiseimg\u001b[0m\u001b[1;33m\u001b[0m\u001b[0m\n",
      "\u001b[1;31mNameError\u001b[0m: name 'iterPepperNoiseNum' is not defined"
     ],
     "output_type": "error"
    }
   ],
   "source": [
    "## I. edgeEnhancedImg + 3*Remove Pepper Noise:\n",
    "i=0\n",
    "while i<iterPepperNoiseNum:\n",
    "    removedNoiseimg=Remove_PepperNoise(edgeEnhancedImg)\n",
    "    edgeEnhancedImg=removedNoiseimg\n",
    "    i=i+1\n",
    "finalImg=edgeEnhancedImg"
   ]
  },
  {
   "cell_type": "code",
   "execution_count": 30,
   "metadata": {},
   "outputs": [
    {
     "ename": "NameError",
     "evalue": "name 'iterPepperNoiseNum' is not defined",
     "traceback": [
      "\u001b[1;31m---------------------------------------------------------------------------\u001b[0m",
      "\u001b[1;31mNameError\u001b[0m                                 Traceback (most recent call last)",
      "\u001b[1;32m<ipython-input-30-d2475dfc4497>\u001b[0m in \u001b[0;36m<module>\u001b[1;34m()\u001b[0m\n\u001b[0;32m      1\u001b[0m \u001b[1;31m## II. edgeEnhanced More + 3*Remove Pepper Noise:\u001b[0m\u001b[1;33m\u001b[0m\u001b[1;33m\u001b[0m\u001b[0m\n\u001b[0;32m      2\u001b[0m \u001b[0mi\u001b[0m\u001b[1;33m=\u001b[0m\u001b[1;36m0\u001b[0m\u001b[1;33m\u001b[0m\u001b[0m\n\u001b[1;32m----> 3\u001b[1;33m \u001b[1;32mwhile\u001b[0m \u001b[0mi\u001b[0m\u001b[1;33m<\u001b[0m\u001b[0miterPepperNoiseNum\u001b[0m\u001b[1;33m:\u001b[0m\u001b[1;33m\u001b[0m\u001b[0m\n\u001b[0m\u001b[0;32m      4\u001b[0m     \u001b[0mremovedNoiseimg\u001b[0m\u001b[1;33m=\u001b[0m\u001b[0mRemove_PepperNoise\u001b[0m\u001b[1;33m(\u001b[0m\u001b[0medgeEnhancedMoreImg\u001b[0m\u001b[1;33m)\u001b[0m\u001b[1;33m\u001b[0m\u001b[0m\n\u001b[0;32m      5\u001b[0m     \u001b[0medgeEnhancedMoreImg\u001b[0m\u001b[1;33m=\u001b[0m\u001b[0mremovedNoiseimg\u001b[0m\u001b[1;33m\u001b[0m\u001b[0m\n",
      "\u001b[1;31mNameError\u001b[0m: name 'iterPepperNoiseNum' is not defined"
     ],
     "output_type": "error"
    }
   ],
   "source": [
    "## II. edgeEnhanced More + 3*Remove Pepper Noise:\n",
    "i=0\n",
    "while i<iterPepperNoiseNum:\n",
    "    removedNoiseimg=Remove_PepperNoise(edgeEnhancedMoreImg)\n",
    "    edgeEnhancedMoreImg=removedNoiseimg\n",
    "    i=i+1\n",
    "finalImg=edgeEnhancedMoreImg"
   ]
  },
  {
   "cell_type": "code",
   "execution_count": 31,
   "metadata": {},
   "outputs": [
    {
     "ename": "NameError",
     "evalue": "name 'finalImg' is not defined",
     "traceback": [
      "\u001b[1;31m---------------------------------------------------------------------------\u001b[0m",
      "\u001b[1;31mNameError\u001b[0m                                 Traceback (most recent call last)",
      "\u001b[1;32m<ipython-input-31-358b64ffc6b6>\u001b[0m in \u001b[0;36m<module>\u001b[1;34m()\u001b[0m\n\u001b[1;32m----> 1\u001b[1;33m \u001b[0mfinalImg\u001b[0m\u001b[1;33m.\u001b[0m\u001b[0mshow\u001b[0m\u001b[1;33m(\u001b[0m\u001b[1;33m)\u001b[0m\u001b[1;33m\u001b[0m\u001b[0m\n\u001b[0m",
      "\u001b[1;31mNameError\u001b[0m: name 'finalImg' is not defined"
     ],
     "output_type": "error"
    }
   ],
   "source": [
    "finalImg.show()"
   ]
  },
  {
   "cell_type": "code",
   "execution_count": null,
   "metadata": {},
   "outputs": [],
   "source": []
  }
 ],
 "metadata": {
  "kernelspec": {
   "display_name": "Python 2",
   "language": "python",
   "name": "python2"
  },
  "language_info": {
   "codemirror_mode": {
    "name": "ipython",
    "version": 2
   },
   "file_extension": ".py",
   "mimetype": "text/x-python",
   "name": "python",
   "nbconvert_exporter": "python",
   "pygments_lexer": "ipython2",
   "version": "2.7.6"
  }
 },
 "nbformat": 4,
 "nbformat_minor": 0
}
