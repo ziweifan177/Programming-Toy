{
 "cells": [
  {
   "cell_type": "code",
   "execution_count": 8,
   "metadata": {
    "collapsed": true
   },
   "outputs": [],
   "source": [
    "from PIL import Image\n",
    "import os"
   ]
  },
  {
   "cell_type": "code",
   "execution_count": 15,
   "metadata": {},
   "outputs": [
    {
     "name": "stdout",
     "output_type": "stream",
     "text": [
      "C:\\Users\\Zi Wei Fan\\../testNeuron1.jpg\n"
     ]
    }
   ],
   "source": [
    "fileDir = os.path.dirname(os.path.realpath('__file__'))\n",
    "path='../testNeuron1.jpg'\n",
    "filename = os.path.join(fileDir,path)\n",
    "print(filename)\n",
    "#readFile(filename)\n",
    "\n",
    "#image=Image.open(path)\n",
    "#members=[(0,0)*9]\n",
    "#newimg=Image.new(\"RGB\",(1024*1024,height),\"white\")\n"
   ]
  },
  {
   "cell_type": "code",
   "execution_count": 1,
   "metadata": {},
   "outputs": [],
   "source": []
  },
  {
   "cell_type": "code",
   "execution_count": null,
   "metadata": {},
   "outputs": [],
   "source": []
  }
 ],
 "metadata": {
  "kernelspec": {
   "display_name": "Python 2",
   "language": "python",
   "name": "python2"
  },
  "language_info": {
   "codemirror_mode": {
    "name": "ipython",
    "version": 2
   },
   "file_extension": ".py",
   "mimetype": "text/x-python",
   "name": "python",
   "nbconvert_exporter": "python",
   "pygments_lexer": "ipython2",
   "version": "2.7.6"
  }
 },
 "nbformat": 4,
 "nbformat_minor": 0
}
